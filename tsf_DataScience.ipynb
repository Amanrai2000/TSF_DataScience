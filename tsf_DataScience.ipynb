{
  "nbformat": 4,
  "nbformat_minor": 0,
  "metadata": {
    "colab": {
      "name": "tsf_DataScience.ipynb",
      "provenance": [],
      "collapsed_sections": [],
      "authorship_tag": "ABX9TyO2do4cBnuugkq4zX4ddaT5",
      "include_colab_link": true
    },
    "kernelspec": {
      "name": "python3",
      "display_name": "Python 3"
    },
    "language_info": {
      "name": "python"
    }
  },
  "cells": [
    {
      "cell_type": "markdown",
      "metadata": {
        "id": "view-in-github",
        "colab_type": "text"
      },
      "source": [
        "<a href=\"https://colab.research.google.com/github/Amanrai2000/TSF_DataScience/blob/main/tsf_DataScience.ipynb\" target=\"_parent\"><img src=\"https://colab.research.google.com/assets/colab-badge.svg\" alt=\"Open In Colab\"/></a>"
      ]
    },
    {
      "cell_type": "markdown",
      "metadata": {
        "id": "SMv6sMlzzWWm"
      },
      "source": [
        "<font color=”magenta”> Author: Aman Rai </font>"
      ]
    },
    {
      "cell_type": "markdown",
      "metadata": {
        "id": "VrOxDq6NznZl"
      },
      "source": [
        "**TASK 1 - Prediction using Supervised ML\n",
        "To Predict the percentage of a Student based on the no. of study hours they studied**\n",
        "\n",
        "Working using Python Language on Google Colab Notebook "
      ]
    },
    {
      "cell_type": "code",
      "metadata": {
        "id": "iKvLYVMBywAQ"
      },
      "source": [
        "import pandas as pd\n",
        "import numpy as np  \n",
        "import matplotlib.pyplot as plt  \n",
        "from sklearn.model_selection import train_test_split \n",
        "from sklearn.linear_model import LinearRegression  \n",
        "from sklearn import metrics  \n",
        "from sklearn.metrics import r2_score\n",
        "%matplotlib inline"
      ],
      "execution_count": 1,
      "outputs": []
    },
    {
      "cell_type": "markdown",
      "metadata": {
        "id": "pC3Pobx7z7gm"
      },
      "source": [
        "Importing data from the following link"
      ]
    },
    {
      "cell_type": "code",
      "metadata": {
        "colab": {
          "base_uri": "https://localhost:8080/",
          "height": 425
        },
        "id": "-EM4h-aw1ifm",
        "outputId": "007f738f-9259-44e9-cf6f-f46e87b70be7"
      },
      "source": [
        "data_url = \"http://bit.ly/w-data\"\n",
        "df = pd.read_csv(data_url)\n",
        "df.head(12)"
      ],
      "execution_count": 4,
      "outputs": [
        {
          "output_type": "execute_result",
          "data": {
            "text/html": [
              "<div>\n",
              "<style scoped>\n",
              "    .dataframe tbody tr th:only-of-type {\n",
              "        vertical-align: middle;\n",
              "    }\n",
              "\n",
              "    .dataframe tbody tr th {\n",
              "        vertical-align: top;\n",
              "    }\n",
              "\n",
              "    .dataframe thead th {\n",
              "        text-align: right;\n",
              "    }\n",
              "</style>\n",
              "<table border=\"1\" class=\"dataframe\">\n",
              "  <thead>\n",
              "    <tr style=\"text-align: right;\">\n",
              "      <th></th>\n",
              "      <th>Hours</th>\n",
              "      <th>Scores</th>\n",
              "    </tr>\n",
              "  </thead>\n",
              "  <tbody>\n",
              "    <tr>\n",
              "      <th>0</th>\n",
              "      <td>2.5</td>\n",
              "      <td>21</td>\n",
              "    </tr>\n",
              "    <tr>\n",
              "      <th>1</th>\n",
              "      <td>5.1</td>\n",
              "      <td>47</td>\n",
              "    </tr>\n",
              "    <tr>\n",
              "      <th>2</th>\n",
              "      <td>3.2</td>\n",
              "      <td>27</td>\n",
              "    </tr>\n",
              "    <tr>\n",
              "      <th>3</th>\n",
              "      <td>8.5</td>\n",
              "      <td>75</td>\n",
              "    </tr>\n",
              "    <tr>\n",
              "      <th>4</th>\n",
              "      <td>3.5</td>\n",
              "      <td>30</td>\n",
              "    </tr>\n",
              "    <tr>\n",
              "      <th>5</th>\n",
              "      <td>1.5</td>\n",
              "      <td>20</td>\n",
              "    </tr>\n",
              "    <tr>\n",
              "      <th>6</th>\n",
              "      <td>9.2</td>\n",
              "      <td>88</td>\n",
              "    </tr>\n",
              "    <tr>\n",
              "      <th>7</th>\n",
              "      <td>5.5</td>\n",
              "      <td>60</td>\n",
              "    </tr>\n",
              "    <tr>\n",
              "      <th>8</th>\n",
              "      <td>8.3</td>\n",
              "      <td>81</td>\n",
              "    </tr>\n",
              "    <tr>\n",
              "      <th>9</th>\n",
              "      <td>2.7</td>\n",
              "      <td>25</td>\n",
              "    </tr>\n",
              "    <tr>\n",
              "      <th>10</th>\n",
              "      <td>7.7</td>\n",
              "      <td>85</td>\n",
              "    </tr>\n",
              "    <tr>\n",
              "      <th>11</th>\n",
              "      <td>5.9</td>\n",
              "      <td>62</td>\n",
              "    </tr>\n",
              "  </tbody>\n",
              "</table>\n",
              "</div>"
            ],
            "text/plain": [
              "    Hours  Scores\n",
              "0     2.5      21\n",
              "1     5.1      47\n",
              "2     3.2      27\n",
              "3     8.5      75\n",
              "4     3.5      30\n",
              "5     1.5      20\n",
              "6     9.2      88\n",
              "7     5.5      60\n",
              "8     8.3      81\n",
              "9     2.7      25\n",
              "10    7.7      85\n",
              "11    5.9      62"
            ]
          },
          "metadata": {
            "tags": []
          },
          "execution_count": 4
        }
      ]
    },
    {
      "cell_type": "markdown",
      "metadata": {
        "id": "g2gWFTT42OeG"
      },
      "source": [
        "Checking if there are any missing data/empty cells in the given dataset."
      ]
    },
    {
      "cell_type": "code",
      "metadata": {
        "colab": {
          "base_uri": "https://localhost:8080/"
        },
        "id": "1P5fazGs2ipZ",
        "outputId": "2a681a2d-2d24-4659-a4b7-9748e9b42cf0"
      },
      "source": [
        "df.isna().any()"
      ],
      "execution_count": 5,
      "outputs": [
        {
          "output_type": "execute_result",
          "data": {
            "text/plain": [
              "Hours     False\n",
              "Scores    False\n",
              "dtype: bool"
            ]
          },
          "metadata": {
            "tags": []
          },
          "execution_count": 5
        }
      ]
    },
    {
      "cell_type": "markdown",
      "metadata": {
        "id": "rOxEWyr65jK_"
      },
      "source": [
        "Since are no empty cells, therefore we can now visualize the data to get better understanding of it."
      ]
    },
    {
      "cell_type": "markdown",
      "metadata": {
        "id": "a4iM0j7s6GZ5"
      },
      "source": [
        "**Visualizing the given data into a plot.**"
      ]
    },
    {
      "cell_type": "code",
      "metadata": {
        "colab": {
          "base_uri": "https://localhost:8080/",
          "height": 513
        },
        "id": "USkdhMAO54u6",
        "outputId": "9bc39a72-8074-40a2-e8a2-151b8ac3b98c"
      },
      "source": [
        "plt.figure(figsize=(15, 8), facecolor='yellow')\n",
        "plt.xlim(0, 10)\n",
        "plt.ylim(0, 100)\n",
        "plt.scatter(df['Hours'], df['Scores'], label = \"datapoints\", color = \"yellow\")  \n",
        "plt.title('Hours Studied vs Percentage Scored')  \n",
        "plt.xlabel('Hours Studied')  \n",
        "plt.ylabel('Percentage Score')  \n",
        "plt.grid()\n",
        "plt.legend()\n",
        "plt.show()"
      ],
      "execution_count": 11,
      "outputs": [
        {
          "output_type": "display_data",
          "data": {
            "image/png": "[encoded data removed]",
            "text/plain": [
              "<Figure size 1080x576 with 1 Axes>"
            ]
          },
          "metadata": {
            "tags": []
          }
        }
      ]
    },
    {
      "cell_type": "markdown",
      "metadata": {
        "id": "W1BpDtxb7QlJ"
      },
      "source": [
        "From the above plot, it can be deduced that there is a clear positive relation between the variables 'Hours Studied' and 'Percentage Score'."
      ]
    },
    {
      "cell_type": "markdown",
      "metadata": {
        "id": "DUmq-0BH7mOC"
      },
      "source": [
        "**Spliting the data into attributes and labels**"
      ]
    },
    {
      "cell_type": "code",
      "metadata": {
        "id": "LK2Eb1ss7qY_"
      },
      "source": [
        "X = df.iloc[:, :-1].values #Input value to linearRegression is a 2D array \n",
        "Y = df.iloc[:, 1].values"
      ],
      "execution_count": 12,
      "outputs": []
    },
    {
      "cell_type": "code",
      "metadata": {
        "colab": {
          "base_uri": "https://localhost:8080/"
        },
        "id": "lRuQd_BIBzWS",
        "outputId": "39a787f4-5275-4617-9f29-b58734fb271d"
      },
      "source": [
        "X[:5]"
      ],
      "execution_count": 13,
      "outputs": [
        {
          "output_type": "execute_result",
          "data": {
            "text/plain": [
              "array([[2.5],\n",
              "       [5.1],\n",
              "       [3.2],\n",
              "       [8.5],\n",
              "       [3.5]])"
            ]
          },
          "metadata": {
            "tags": []
          },
          "execution_count": 13
        }
      ]
    },
    {
      "cell_type": "code",
      "metadata": {
        "colab": {
          "base_uri": "https://localhost:8080/"
        },
        "id": "xGYxP6UqB6Wd",
        "outputId": "69919017-bbd6-4890-d2e7-c31a3469c659"
      },
      "source": [
        "Y[:5]"
      ],
      "execution_count": 14,
      "outputs": [
        {
          "output_type": "execute_result",
          "data": {
            "text/plain": [
              "array([21, 47, 27, 75, 30])"
            ]
          },
          "metadata": {
            "tags": []
          },
          "execution_count": 14
        }
      ]
    },
    {
      "cell_type": "markdown",
      "metadata": {
        "id": "94e75IAmB_yk"
      },
      "source": [
        "**Splitting the dataset into training and test sets and then train the model with training set**"
      ]
    },
    {
      "cell_type": "code",
      "metadata": {
        "id": "S6qahikeCgIb"
      },
      "source": [
        "X_train, X_test, Y_train, Y_test = train_test_split(X, Y, test_size=0.2, random_state=0)"
      ],
      "execution_count": 15,
      "outputs": []
    },
    {
      "cell_type": "code",
      "metadata": {
        "colab": {
          "base_uri": "https://localhost:8080/"
        },
        "id": "G0lAPiV1Cj65",
        "outputId": "f9563bdf-48ce-4bb5-c7a9-bf94ecfb3ed4"
      },
      "source": [
        "linearRegression = LinearRegression()  \n",
        "linearRegression.fit(X_train, Y_train) \n",
        "print(\"Training the model is completed\")"
      ],
      "execution_count": 16,
      "outputs": [
        {
          "output_type": "stream",
          "text": [
            "Training the model is completed\n"
          ],
          "name": "stdout"
        }
      ]
    },
    {
      "cell_type": "markdown",
      "metadata": {
        "id": "t8vTcMtwIFuK"
      },
      "source": [
        "**Create a regression line for the train data**"
      ]
    },
    {
      "cell_type": "code",
      "metadata": {
        "id": "DaYPH1gmITLO"
      },
      "source": [
        "data_line = linearRegression.coef_*X+linearRegression.intercept_"
      ],
      "execution_count": 18,
      "outputs": []
    },
    {
      "cell_type": "markdown",
      "metadata": {
        "id": "-BfROOjCIVz-"
      },
      "source": [
        "**Plot the data around regression line**"
      ]
    },
    {
      "cell_type": "code",
      "metadata": {
        "colab": {
          "base_uri": "https://localhost:8080/",
          "height": 295
        },
        "id": "rX08QNY5IeoD",
        "outputId": "9d3520ce-555b-422f-a7f0-518ed3d1afce"
      },
      "source": [
        "plt.figure(figsize=(7, 4), facecolor='yellow')\n",
        "plt.xlim(0, 10)\n",
        "plt.ylim(0, 100)\n",
        "plt.scatter(X, Y, label = \"Data Points\", color = \"yellow\")\n",
        "plt.plot(X, data_line, label = \"Regression line\", color = \"yellow\")\n",
        "plt.title(\"Linear Regression line for the data\")\n",
        "plt.xlabel('Hours Studied')  \n",
        "plt.ylabel('Percentage Score') \n",
        "plt.grid()\n",
        "plt.legend()\n",
        "plt.show()"
      ],
      "execution_count": 20,
      "outputs": [
        {
          "output_type": "display_data",
          "data": {
            "image/png": "[encoded data removed]",
            "text/plain": [
              "<Figure size 504x288 with 1 Axes>"
            ]
          },
          "metadata": {
            "tags": []
          }
        }
      ]
    },
    {
      "cell_type": "markdown",
      "metadata": {
        "id": "XiJLzRwmJ82e"
      },
      "source": [
        "Test the trained regression model with test data"
      ]
    },
    {
      "cell_type": "code",
      "metadata": {
        "id": "qexohu8gKBZc"
      },
      "source": [
        "\n",
        "Y_pred = linearRegression.predict(X_test) # Predicting the scores"
      ],
      "execution_count": 21,
      "outputs": []
    },
    {
      "cell_type": "markdown",
      "metadata": {
        "id": "Txhbp2WKKEn8"
      },
      "source": [
        "**Tabulate actual and predicted values of test set**"
      ]
    },
    {
      "cell_type": "code",
      "metadata": {
        "colab": {
          "base_uri": "https://localhost:8080/",
          "height": 206
        },
        "id": "IJZ_7Nj3KLJJ",
        "outputId": "060b303a-1dbe-4d97-9399-e8a7469c904a"
      },
      "source": [
        "pred_data = pd.DataFrame(list(zip(Y_test, Y_pred)),columns=['Actual','Predicted']) \n",
        "pred_data.head()"
      ],
      "execution_count": 22,
      "outputs": [
        {
          "output_type": "execute_result",
          "data": {
            "text/html": [
              "<div>\n",
              "<style scoped>\n",
              "    .dataframe tbody tr th:only-of-type {\n",
              "        vertical-align: middle;\n",
              "    }\n",
              "\n",
              "    .dataframe tbody tr th {\n",
              "        vertical-align: top;\n",
              "    }\n",
              "\n",
              "    .dataframe thead th {\n",
              "        text-align: right;\n",
              "    }\n",
              "</style>\n",
              "<table border=\"1\" class=\"dataframe\">\n",
              "  <thead>\n",
              "    <tr style=\"text-align: right;\">\n",
              "      <th></th>\n",
              "      <th>Actual</th>\n",
              "      <th>Predicted</th>\n",
              "    </tr>\n",
              "  </thead>\n",
              "  <tbody>\n",
              "    <tr>\n",
              "      <th>0</th>\n",
              "      <td>20</td>\n",
              "      <td>16.884145</td>\n",
              "    </tr>\n",
              "    <tr>\n",
              "      <th>1</th>\n",
              "      <td>27</td>\n",
              "      <td>33.732261</td>\n",
              "    </tr>\n",
              "    <tr>\n",
              "      <th>2</th>\n",
              "      <td>69</td>\n",
              "      <td>75.357018</td>\n",
              "    </tr>\n",
              "    <tr>\n",
              "      <th>3</th>\n",
              "      <td>30</td>\n",
              "      <td>26.794801</td>\n",
              "    </tr>\n",
              "    <tr>\n",
              "      <th>4</th>\n",
              "      <td>62</td>\n",
              "      <td>60.491033</td>\n",
              "    </tr>\n",
              "  </tbody>\n",
              "</table>\n",
              "</div>"
            ],
            "text/plain": [
              "   Actual  Predicted\n",
              "0      20  16.884145\n",
              "1      27  33.732261\n",
              "2      69  75.357018\n",
              "3      30  26.794801\n",
              "4      62  60.491033"
            ]
          },
          "metadata": {
            "tags": []
          },
          "execution_count": 22
        }
      ]
    },
    {
      "cell_type": "markdown",
      "metadata": {
        "id": "1NsCgJjjKTyc"
      },
      "source": [
        "**Plot Predicted values against Actual data to visualize the difference**"
      ]
    },
    {
      "cell_type": "code",
      "metadata": {
        "colab": {
          "base_uri": "https://localhost:8080/",
          "height": 295
        },
        "id": "m-3tecCvKZL6",
        "outputId": "60c4881c-1931-4685-911f-51410bac32a6"
      },
      "source": [
        "plt.figure(figsize=(7, 4), facecolor='yellow')\n",
        "plt.xlim(0, 10)\n",
        "plt.ylim(0, 100)\n",
        "\n",
        "plt.scatter(X_test, Y_test, c='yellow',  label='Actual data')\n",
        "plt.scatter(X_test, Y_pred, c='#f00',  label='Predicted values')\n",
        "plt.plot(X, data_line, label = \"Regression line\", color = \"#555\")\n",
        "\n",
        "plt.title(\"Plot of predicted vs actual data\")\n",
        "plt.xlabel('Hours Studied')  \n",
        "plt.ylabel('Percentage Score') \n",
        "plt.grid()\n",
        "plt.legend()\n",
        "plt.show()"
      ],
      "execution_count": 25,
      "outputs": [
        {
          "output_type": "display_data",
          "data": {
            "image/png": "[encoded data removed]",
            "text/plain": [
              "<Figure size 504x288 with 1 Axes>"
            ]
          },
          "metadata": {
            "tags": []
          }
        }
      ]
    },
    {
      "cell_type": "markdown",
      "metadata": {
        "id": "5d616zWYKup8"
      },
      "source": [
        "**Evaluating the model**"
      ]
    },
    {
      "cell_type": "code",
      "metadata": {
        "colab": {
          "base_uri": "https://localhost:8080/"
        },
        "id": "itr9PhSJK0Xo",
        "outputId": "06060516-86df-4c82-b86a-65451098bfed"
      },
      "source": [
        "print('Mean Absolute Error:', metrics.mean_absolute_error(Y_test, Y_pred)) \n",
        "print('r2 score           : {}'.format(r2_score(Y_test, Y_pred)))"
      ],
      "execution_count": 26,
      "outputs": [
        {
          "output_type": "stream",
          "text": [
            "Mean Absolute Error: 4.183859899002982\n",
            "r2 score           : 0.9454906892105354\n"
          ],
          "name": "stdout"
        }
      ]
    },
    {
      "cell_type": "markdown",
      "metadata": {
        "id": "Ef3aOyzeK8J4"
      },
      "source": [
        "# **Question: find percent if number of hours = 9.25**"
      ]
    },
    {
      "cell_type": "code",
      "metadata": {
        "colab": {
          "base_uri": "https://localhost:8080/"
        },
        "id": "o3AxDibdLBVY",
        "outputId": "06e4e8b1-4486-46fe-d6ec-6bb794573ee8"
      },
      "source": [
        "hours = 9.25\n",
        "number_of_hours = linearRegression.predict([[hours]])\n",
        "print(\"No of Hours = {}\".format(hours))\n",
        "print(\"Predicted Score = {}\".format(number_of_hours[0]))"
      ],
      "execution_count": 27,
      "outputs": [
        {
          "output_type": "stream",
          "text": [
            "No of Hours = 9.25\n",
            "Predicted Score = 93.69173248737539\n"
          ],
          "name": "stdout"
        }
      ]
    }
  ]
}